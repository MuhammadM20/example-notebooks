{
  "nbformat": 4,
  "nbformat_minor": 0,
  "metadata": {
    "colab": {
      "name": "traffic_visualization.ipynb",
      "provenance": [],
      "collapsed_sections": [],
      "include_colab_link": true
    },
    "kernelspec": {
      "name": "python3",
      "display_name": "Python 3"
    }
  },
  "cells": [
    {
      "cell_type": "markdown",
      "metadata": {
        "id": "view-in-github",
        "colab_type": "text"
      },
      "source": [
        "<a href=\"https://colab.research.google.com/github/vu-bigdata-2020/example-notebooks/blob/master/analytics-examples/traffic_visualization.ipynb\" target=\"_parent\"><img src=\"https://colab.research.google.com/assets/colab-badge.svg\" alt=\"Open In Colab\"/></a>"
      ]
    },
    {
      "cell_type": "code",
      "metadata": {
        "id": "vxe3vf-7279_",
        "colab_type": "code",
        "colab": {}
      },
      "source": [
        "import numpy as np\n",
        "import pandas as pd\n",
        "import matplotlib.pyplot as plt\n",
        "import json\n",
        "import math\n",
        "import json\n",
        "from copy import deepcopy\n",
        "from shapely.geometry import *\n",
        "from shapely.ops import cascaded_union\n",
        "import folium\n",
        "import random\n",
        "import matplotlib"
      ],
      "execution_count": 0,
      "outputs": []
    },
    {
      "cell_type": "code",
      "metadata": {
        "id": "cK99fhzM3sz8",
        "colab_type": "code",
        "colab": {}
      },
      "source": [
        "tmc_data_path = \"https://raw.githubusercontent.com/vu-bigdata-2020/example-notebooks/master/datasets/traffic_data/tmc.json\""
      ],
      "execution_count": 0,
      "outputs": []
    },
    {
      "cell_type": "code",
      "metadata": {
        "id": "yAPCuNQ24X9X",
        "colab_type": "code",
        "colab": {}
      },
      "source": [
        "import urllib\n",
        "\n",
        "url = tmc_data_path\n",
        "\n",
        "response = urllib.request.urlopen(url)\n",
        "tmc_json = json.loads(response.read())\n",
        "# print (tmc_json.keys())\n"
      ],
      "execution_count": 0,
      "outputs": []
    },
    {
      "cell_type": "code",
      "metadata": {
        "id": "JFJ2sAnU_ZmI",
        "colab_type": "code",
        "colab": {}
      },
      "source": [
        "def plot_tmc_ids(tmc_id_list, color=\"red\"):\n",
        "    \"\"\"\n",
        "    tmc_id_list: (type-list) list of tmc IDs\n",
        "    \"\"\"\n",
        "    shp_list = [asShape(tmc_json[tmc_id][\"tmc_shp\"]) for tmc_id in tmc_id_list]\n",
        "    shp = cascaded_union(shp_list)\n",
        "    center = shp.centroid\n",
        "    m = folium.Map(location=[center.y, center.x], zoom_start=13)\n",
        "    bounds = shp.bounds\n",
        "    m.fit_bounds([[bounds[1], bounds[0]], [bounds[3], bounds[2]]])\n",
        "    style =lambda x: {'color' :color}\n",
        "    folium.GeoJson(mapping(shp), style_function=style).add_to(m)\n",
        "    folium.LayerControl().add_to(m)\n",
        "    return m"
      ],
      "execution_count": 0,
      "outputs": []
    },
    {
      "cell_type": "code",
      "metadata": {
        "id": "Vn2HhYqn_llI",
        "colab_type": "code",
        "colab": {
          "base_uri": "https://localhost:8080/",
          "height": 889
        },
        "outputId": "c66bcecd-74b3-407c-847e-7f1856d3ac41"
      },
      "source": [
        "plot_tmc_ids(['12331-0.25626','12333-0.41623','12426+0.48088'])"
      ],
      "execution_count": 52,
      "outputs": [
        {
          "output_type": "execute_result",
          "data": {
            "text/html": [
              "<div style=\"width:100%;\"><div style=\"position:relative;width:100%;height:0;padding-bottom:60%;\"><iframe src=\"data:text/html;charset=utf-8;base64,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\" style=\"position:absolute;width:100%;height:100%;left:0;top:0;border:none !important;\" allowfullscreen webkitallowfullscreen mozallowfullscreen></iframe></div></div>"
            ],
            "text/plain": [
              "<folium.folium.Map at 0x7fa69c4dfdd8>"
            ]
          },
          "metadata": {
            "tags": []
          },
          "execution_count": 52
        }
      ]
    },
    {
      "cell_type": "code",
      "metadata": {
        "id": "hyUGMKlp4eFG",
        "colab_type": "code",
        "colab": {}
      },
      "source": [
        ""
      ],
      "execution_count": 0,
      "outputs": []
    }
  ]
}