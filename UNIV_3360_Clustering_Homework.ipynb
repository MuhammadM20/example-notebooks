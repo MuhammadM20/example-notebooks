{
  "nbformat": 4,
  "nbformat_minor": 0,
  "metadata": {
    "colab": {
      "name": "UNIV 3360 - Clustering Homework.ipynb",
      "provenance": [],
      "collapsed_sections": [],
      "include_colab_link": true
    },
    "kernelspec": {
      "name": "python3",
      "display_name": "Python 3"
    }
  },
  "cells": [
    {
      "cell_type": "markdown",
      "metadata": {
        "id": "view-in-github",
        "colab_type": "text"
      },
      "source": [
        "<a href=\"https://colab.research.google.com/github/MuhammadM20/example-notebooks/blob/master/UNIV_3360_Clustering_Homework.ipynb\" target=\"_parent\"><img src=\"https://colab.research.google.com/assets/colab-badge.svg\" alt=\"Open In Colab\"/></a>"
      ]
    },
    {
      "cell_type": "markdown",
      "metadata": {
        "id": "IbgZg787enVF",
        "colab_type": "text"
      },
      "source": [
        "# Clustering Homework\n",
        "\n",
        "In this homework, you will be demonstrating your understanding of the unsupervised learning (clustering) methods that we went over in class. Refer to the lecture slides on Brightspace for explainations of the supervised learning algorithms and the in-class example notebooks for examples on how to use Python and Scikit-learn for supervised learning."
      ]
    },
    {
      "cell_type": "code",
      "metadata": {
        "id": "Tfipsl5nROiK",
        "colab_type": "code",
        "colab": {}
      },
      "source": [
        "import numpy as np\n",
        "import matplotlib.pyplot as plt\n",
        "import pandas as pd\n",
        "\n",
        "from sklearn import datasets\n",
        "\n",
        "from sklearn.metrics import accuracy_score\n",
        "from sklearn.cluster import KMeans\n",
        "from sklearn.cluster import DBSCAN\n",
        "from sklearn.cluster import AgglomerativeClustering"
      ],
      "execution_count": 0,
      "outputs": []
    },
    {
      "cell_type": "markdown",
      "metadata": {
        "id": "ONcN70JiZkiN",
        "colab_type": "text"
      },
      "source": [
        "# Iris Data\n",
        "\n",
        "The first dataset that we  will be analyzing is the Iris data. We have worked with this data before, but in case you have forgotten, the task is to classify different types of Iris flowers based on four physical measurements. For this assignment, we will be discarding the known labels and attempting to determine the type of flower by clustering on two of the features.\n",
        "\n",
        "Run the cell below to load the data and format it into a dataframe."
      ]
    },
    {
      "cell_type": "code",
      "metadata": {
        "id": "jLtJpAhnScuh",
        "colab_type": "code",
        "outputId": "2b8afa14-5d27-41c1-bc15-6ebf7c9f48a4",
        "colab": {
          "base_uri": "https://localhost:8080/",
          "height": 203
        }
      },
      "source": [
        "iris_data = datasets.load_iris()\n",
        "\n",
        "X_iris = iris_data.data\n",
        "feature_names = iris_data.feature_names\n",
        "\n",
        "data = pd.DataFrame(X_iris, columns=feature_names)\n",
        "data = data[['petal length (cm)','sepal length (cm)']]\n",
        "data.head()"
      ],
      "execution_count": 11,
      "outputs": [
        {
          "output_type": "execute_result",
          "data": {
            "text/html": [
              "<div>\n",
              "<style scoped>\n",
              "    .dataframe tbody tr th:only-of-type {\n",
              "        vertical-align: middle;\n",
              "    }\n",
              "\n",
              "    .dataframe tbody tr th {\n",
              "        vertical-align: top;\n",
              "    }\n",
              "\n",
              "    .dataframe thead th {\n",
              "        text-align: right;\n",
              "    }\n",
              "</style>\n",
              "<table border=\"1\" class=\"dataframe\">\n",
              "  <thead>\n",
              "    <tr style=\"text-align: right;\">\n",
              "      <th></th>\n",
              "      <th>petal length (cm)</th>\n",
              "      <th>sepal length (cm)</th>\n",
              "    </tr>\n",
              "  </thead>\n",
              "  <tbody>\n",
              "    <tr>\n",
              "      <th>0</th>\n",
              "      <td>1.4</td>\n",
              "      <td>5.1</td>\n",
              "    </tr>\n",
              "    <tr>\n",
              "      <th>1</th>\n",
              "      <td>1.4</td>\n",
              "      <td>4.9</td>\n",
              "    </tr>\n",
              "    <tr>\n",
              "      <th>2</th>\n",
              "      <td>1.3</td>\n",
              "      <td>4.7</td>\n",
              "    </tr>\n",
              "    <tr>\n",
              "      <th>3</th>\n",
              "      <td>1.5</td>\n",
              "      <td>4.6</td>\n",
              "    </tr>\n",
              "    <tr>\n",
              "      <th>4</th>\n",
              "      <td>1.4</td>\n",
              "      <td>5.0</td>\n",
              "    </tr>\n",
              "  </tbody>\n",
              "</table>\n",
              "</div>"
            ],
            "text/plain": [
              "   petal length (cm)  sepal length (cm)\n",
              "0                1.4                5.1\n",
              "1                1.4                4.9\n",
              "2                1.3                4.7\n",
              "3                1.5                4.6\n",
              "4                1.4                5.0"
            ]
          },
          "metadata": {
            "tags": []
          },
          "execution_count": 11
        }
      ]
    },
    {
      "cell_type": "markdown",
      "metadata": {
        "id": "ud9eEifpas33",
        "colab_type": "text"
      },
      "source": [
        "## K Means\n",
        "\n",
        "First, we will cluster the Iris data using K-means."
      ]
    },
    {
      "cell_type": "markdown",
      "metadata": {
        "id": "FqXYD6uybHD7",
        "colab_type": "text"
      },
      "source": [
        "### Known Number of Clusters\n",
        "\n",
        "We know from prior knowledge that this dataset contains three type of iris flowers, and as a result, three classes. In the cell below, create and fit a KMeans clustering with K=3 for the iris data. Print the labels and the centroids that KMeans produces."
      ]
    },
    {
      "cell_type": "code",
      "metadata": {
        "id": "Bg2BFu_UUVGy",
        "colab_type": "code",
        "outputId": "c36d522b-eeae-4bf0-ed24-21dc775dd004",
        "colab": {
          "base_uri": "https://localhost:8080/",
          "height": 189
        }
      },
      "source": [
        "k_means = KMeans(n_clusters=3, random_state=4)\n",
        "k_means.fit(X_iris)\n",
        "\n",
        "k_means_labels = k_means.labels_\n",
        "print(\"Labels: \", k_means_labels)\n",
        "print()\n",
        "\n",
        "k_means_centroids = k_means.cluster_centers_\n",
        "print(\"Centroids: \\n\", k_means_centroids)"
      ],
      "execution_count": 12,
      "outputs": [
        {
          "output_type": "stream",
          "text": [
            "Labels:  [1 1 1 1 1 1 1 1 1 1 1 1 1 1 1 1 1 1 1 1 1 1 1 1 1 1 1 1 1 1 1 1 1 1 1 1 1\n",
            " 1 1 1 1 1 1 1 1 1 1 1 1 1 2 2 0 2 2 2 2 2 2 2 2 2 2 2 2 2 2 2 2 2 2 2 2 2\n",
            " 2 2 2 0 2 2 2 2 2 2 2 2 2 2 2 2 2 2 2 2 2 2 2 2 2 2 0 2 0 0 0 0 2 0 0 0 0\n",
            " 0 0 2 2 0 0 0 0 2 0 2 0 2 0 0 2 2 0 0 0 0 0 2 0 0 0 0 2 0 0 0 2 0 0 0 2 0\n",
            " 0 2]\n",
            "\n",
            "Centroids: \n",
            " [[6.85       3.07368421 5.74210526 2.07105263]\n",
            " [5.006      3.428      1.462      0.246     ]\n",
            " [5.9016129  2.7483871  4.39354839 1.43387097]]\n"
          ],
          "name": "stdout"
        }
      ]
    },
    {
      "cell_type": "markdown",
      "metadata": {
        "id": "nTBzhMIzjmMQ",
        "colab_type": "text"
      },
      "source": [
        "Since we are only using two features, we are able to plot the data and visualize the classification. I have defined a function for you in the cell below which takes as input the data, the generated cluster labels (as you printed them above), and a few parameters for labeling the graph and plots the produced cluster in different colors.\n",
        "\n",
        "**Important Note:** The input to the *plot_cluster* function must be a pandas dataframe, not a numpy array."
      ]
    },
    {
      "cell_type": "code",
      "metadata": {
        "id": "jLXbKFwkkQvl",
        "colab_type": "code",
        "colab": {}
      },
      "source": [
        "def plot_cluster(data, labels, plot_title):\n",
        "  plt.figure(figsize=(10,5))\n",
        "  unique_labels = set(labels)\n",
        "  core_samples_mask = np.zeros_like(labels, dtype=bool)\n",
        "  colors = ['b','g','r','c','m','y','k']\n",
        "\n",
        "  for k in unique_labels:\n",
        "      class_member_mask = (labels == k)\n",
        "      xy = data[class_member_mask & ~core_samples_mask]\n",
        "      plt.scatter(xy[xy.columns[0]], xy[xy.columns[1]], color=colors[k%7])\n",
        "\n",
        "  plt.title(plot_title)\n",
        "  plt.xlabel(data.columns[0])\n",
        "  plt.ylabel(data.columns[1])\n",
        "  plt.show()"
      ],
      "execution_count": 0,
      "outputs": []
    },
    {
      "cell_type": "markdown",
      "metadata": {
        "id": "dfI9rTeFnhLO",
        "colab_type": "text"
      },
      "source": [
        "In the cell below, use the *plot_clusters* function from above to plot the result of the KMeans algorithm."
      ]
    },
    {
      "cell_type": "code",
      "metadata": {
        "id": "rWUTudxdkxNZ",
        "colab_type": "code",
        "outputId": "c2b77769-cdbc-4155-da12-2a3f5fa56ee0",
        "colab": {
          "base_uri": "https://localhost:8080/",
          "height": 350
        }
      },
      "source": [
        "plot_cluster(data, k_means_labels, \"Plotting Clusters\")"
      ],
      "execution_count": 14,
      "outputs": [
        {
          "output_type": "display_data",
          "data": {
            "image/png": "[encoded data removed]",
            "text/plain": [
              "<Figure size 720x360 with 1 Axes>"
            ]
          },
          "metadata": {
            "tags": []
          }
        }
      ]
    },
    {
      "cell_type": "markdown",
      "metadata": {
        "id": "v9Ot539jnEL-",
        "colab_type": "text"
      },
      "source": [
        "**Question:** Brielfly dicuss the results of thr KMeans clustering including whether you believe the algorithm did a good job with the data for not."
      ]
    },
    {
      "cell_type": "markdown",
      "metadata": {
        "id": "vOSa3cvknUBC",
        "colab_type": "text"
      },
      "source": [
        "**Answer:** This clustering is fairly ok and sensible. There could be better clustering in the group of data points to the upper right, possibly into one group (it looks like a linear trend for the entire group)."
      ]
    },
    {
      "cell_type": "markdown",
      "metadata": {
        "id": "hJ_Fil88bK49",
        "colab_type": "text"
      },
      "source": [
        "### Unkown Number of Clusters\n",
        "\n",
        "Now we will evaluate the KMeans clustering without using our pior knowledge of the number of different Iris flowers."
      ]
    },
    {
      "cell_type": "markdown",
      "metadata": {
        "id": "zMQdt_JJoUvm",
        "colab_type": "text"
      },
      "source": [
        "**Question:** What types of metrics can we use to evaluate the performance of the KMeans algorithm in a trade-off curve?"
      ]
    },
    {
      "cell_type": "markdown",
      "metadata": {
        "id": "PZxG2gWIokda",
        "colab_type": "text"
      },
      "source": [
        "**Answer:** You can use the metric of inertia measuring the sum of squared distances of samples to their closest cluster center. When you run KMeans for a variety of K values inertia will better show you how the clustering works."
      ]
    },
    {
      "cell_type": "markdown",
      "metadata": {
        "id": "j4vYrkFqoTc4",
        "colab_type": "text"
      },
      "source": [
        "In the cell below, please fit KMeans for all values of K between 1 and 10 and plot the resulting trade-off curve."
      ]
    },
    {
      "cell_type": "code",
      "metadata": {
        "id": "Rw0f5L-1a1pj",
        "colab_type": "code",
        "colab": {
          "base_uri": "https://localhost:8080/",
          "height": 350
        },
        "outputId": "01afb246-3526-4354-8394-42b4050d82f0"
      },
      "source": [
        "k_values = [1,2,3,4,5,6,7,8,9,10]\n",
        "inertia_values = []\n",
        "\n",
        "for k in k_values:\n",
        "  k_means = KMeans(n_clusters=k, random_state=4)\n",
        "  k_means.fit(data)\n",
        "  inertia_values.append(k_means.inertia_)\n",
        "\n",
        "plt.figure(figsize=(10,5))\n",
        "plt.plot(k_values, inertia_values)\n",
        "plt.xlabel(\"Number of Clusters (K)\")\n",
        "plt.ylabel(\"Inertia Value\")\n",
        "plt.title(\"Trade Off Curve for Iris Flower Clustering\")\n",
        "plt.show()\n",
        "\n"
      ],
      "execution_count": 24,
      "outputs": [
        {
          "output_type": "display_data",
          "data": {
            "image/png": "[encoded data removed]",
            "text/plain": [
              "<Figure size 720x360 with 1 Axes>"
            ]
          },
          "metadata": {
            "tags": []
          }
        }
      ]
    },
    {
      "cell_type": "markdown",
      "metadata": {
        "id": "KyyZnjpqos0B",
        "colab_type": "text"
      },
      "source": [
        "**Question:** Based on the results of the trade-off curve, what value of K is optimal for the Iris data? Explain your reasoning."
      ]
    },
    {
      "cell_type": "markdown",
      "metadata": {
        "id": "bvQXdZmQo1vN",
        "colab_type": "text"
      },
      "source": [
        "**Answer:** The value of K most optimal for the Iris data is K=2. The \"knee of the curve\" occurs at this point."
      ]
    },
    {
      "cell_type": "markdown",
      "metadata": {
        "id": "zDeF50L2o-di",
        "colab_type": "text"
      },
      "source": [
        "Based on your answer above, fit KMeans for the optimal value of K and plot the resulting clustering."
      ]
    },
    {
      "cell_type": "code",
      "metadata": {
        "id": "EmVxLlbopJkK",
        "colab_type": "code",
        "colab": {
          "base_uri": "https://localhost:8080/",
          "height": 350
        },
        "outputId": "f7268a94-1fc2-4e4c-b901-b7a1f96b2b46"
      },
      "source": [
        "k_means = KMeans(n_clusters=2, random_state=4)\n",
        "k_means.fit(X_iris)\n",
        "\n",
        "k_means_labels = k_means.labels_\n",
        "\n",
        "plot_cluster(data, k_means_labels, \"Plotting Clusters\")"
      ],
      "execution_count": 25,
      "outputs": [
        {
          "output_type": "display_data",
          "data": {
            "image/png": "[encoded data removed]",
            "text/plain": [
              "<Figure size 720x360 with 1 Axes>"
            ]
          },
          "metadata": {
            "tags": []
          }
        }
      ]
    },
    {
      "cell_type": "markdown",
      "metadata": {
        "id": "USbYzTeUpN9M",
        "colab_type": "text"
      },
      "source": [
        "**Question:** How do the results of this clustering compare to the results of K=3 from earlier?"
      ]
    },
    {
      "cell_type": "markdown",
      "metadata": {
        "id": "Fsp02ClMpWmL",
        "colab_type": "text"
      },
      "source": [
        "**Answer:** This clustering groups the entire upper right collection of data points into one cluster which is what I recommended above. It is interesting how the green cluster extends into the right, but the centrioid of the blue cluster is likely to far up and to the right. "
      ]
    },
    {
      "cell_type": "markdown",
      "metadata": {
        "id": "KgJVLTEj85TC",
        "colab_type": "text"
      },
      "source": [
        "## Agglomerative Hierarchical \n",
        "\n",
        "Now we will use a hierarchical clustering algorithm on the Iris data. Fit an average linkage agglomerative hierarchical clustering set to predict 3 clusters. Plot the results of the clustering."
      ]
    },
    {
      "cell_type": "code",
      "metadata": {
        "id": "8VMUz2iN-ITL",
        "colab_type": "code",
        "outputId": "e8f32d67-6bca-474f-d331-5de2081b1c85",
        "colab": {
          "base_uri": "https://localhost:8080/",
          "height": 350
        }
      },
      "source": [
        "hier = AgglomerativeClustering(n_clusters=2, linkage='average')\n",
        "hier.fit(X_iris)\n",
        "\n",
        "plot_cluster(data, hier.labels_, \"Hierarchical Clustering with Average Linkage\")"
      ],
      "execution_count": 26,
      "outputs": [
        {
          "output_type": "display_data",
          "data": {
            "image/png": "[encoded data removed]",
            "text/plain": [
              "<Figure size 720x360 with 1 Axes>"
            ]
          },
          "metadata": {
            "tags": []
          }
        }
      ]
    },
    {
      "cell_type": "markdown",
      "metadata": {
        "id": "4ayRgQTBAVTo",
        "colab_type": "text"
      },
      "source": [
        "**Question:** Briefly decribe the results of the clustering. Is this a better or worse result than KMeans?"
      ]
    },
    {
      "cell_type": "markdown",
      "metadata": {
        "id": "QzpgAOyGAlXU",
        "colab_type": "text"
      },
      "source": [
        "**Answer:** The hierarchical clustering created two cluster groups that look more distinct than those created by the KMeans clusters above."
      ]
    },
    {
      "cell_type": "markdown",
      "metadata": {
        "id": "wsp7D6ToAnIG",
        "colab_type": "text"
      },
      "source": [
        "Now fit an agglomerative hierarchical clustering with one other type of linkage of your choosing. Plot the results of the clustering."
      ]
    },
    {
      "cell_type": "code",
      "metadata": {
        "id": "0TiSuvE4A1eu",
        "colab_type": "code",
        "outputId": "5180b480-f430-4b30-dc3f-976a8a40c105",
        "colab": {
          "base_uri": "https://localhost:8080/",
          "height": 350
        }
      },
      "source": [
        "hier = AgglomerativeClustering(n_clusters=2, linkage='ward')\n",
        "hier.fit(X_iris)\n",
        "\n",
        "plot_cluster(data, hier.labels_, \"Hierarchical Clustering with Ward Linkage\")"
      ],
      "execution_count": 27,
      "outputs": [
        {
          "output_type": "display_data",
          "data": {
            "image/png": "[encoded data removed]",
            "text/plain": [
              "<Figure size 720x360 with 1 Axes>"
            ]
          },
          "metadata": {
            "tags": []
          }
        }
      ]
    },
    {
      "cell_type": "markdown",
      "metadata": {
        "id": "WSauSUGTA1zt",
        "colab_type": "text"
      },
      "source": [
        "**Question:** Briefly describe the results of the clustering. How did it change from average linkage?"
      ]
    },
    {
      "cell_type": "markdown",
      "metadata": {
        "id": "AXSJN6yqA9pD",
        "colab_type": "text"
      },
      "source": [
        "**Answer:** This clustering results in two clusters that are not different from the average linkage performed above."
      ]
    },
    {
      "cell_type": "markdown",
      "metadata": {
        "id": "9bRsOLEIA_L7",
        "colab_type": "text"
      },
      "source": [
        "**Question:** In general, how do you determine what type of linkage to use in hierarchical clustering?"
      ]
    },
    {
      "cell_type": "markdown",
      "metadata": {
        "id": "r1ZpUu36BMLj",
        "colab_type": "text"
      },
      "source": [
        "**Answer:** Based off of my research the linkaged used depends on your data. You must be aware of each type and how it will impact your results. Each linkage involves different grouping techniques based on the distance between points so you must be prepared to understand how differently each impacts your results.\n",
        "\n"
      ]
    },
    {
      "cell_type": "markdown",
      "metadata": {
        "id": "-Xg09F3IayH1",
        "colab_type": "text"
      },
      "source": [
        "## DBSCAN\n",
        "\n",
        "Now we will use a density based clustering algorithm on the Iris data. Fit a DBSCAN clustering using the default parameters and plot the results of the clustering."
      ]
    },
    {
      "cell_type": "code",
      "metadata": {
        "id": "Me34eAWTWb0J",
        "colab_type": "code",
        "outputId": "2c05c6fe-251f-46b2-81de-4f1e8fe67ca8",
        "colab": {
          "base_uri": "https://localhost:8080/",
          "height": 1000
        }
      },
      "source": [
        "db = DBSCAN()\n",
        "db.fit(X_iris)\n",
        "plot_cluster(data, db.labels_, \"DBSCAN Clustering with eps=0.5\")\n",
        "\n",
        "db = DBSCAN(eps=0.25)\n",
        "db.fit(X_iris)\n",
        "plot_cluster(data, db.labels_, \"DBSCAN Clustering with eps=0.25\")\n",
        "\n",
        "db = DBSCAN(eps=0.99)\n",
        "db.fit(X_iris)\n",
        "plot_cluster(data, db.labels_, \"DBSCAN Clustering with eps=.99\")"
      ],
      "execution_count": 41,
      "outputs": [
        {
          "output_type": "display_data",
          "data": {
            "image/png": "[encoded data removed]",
            "text/plain": [
              "<Figure size 720x360 with 1 Axes>"
            ]
          },
          "metadata": {
            "tags": []
          }
        },
        {
          "output_type": "display_data",
          "data": {
            "image/png": "[encoded data removed]",
            "text/plain": [
              "<Figure size 720x360 with 1 Axes>"
            ]
          },
          "metadata": {
            "tags": []
          }
        },
        {
          "output_type": "display_data",
          "data": {
            "image/png": "[encoded data removed]",
            "text/plain": [
              "<Figure size 720x360 with 1 Axes>"
            ]
          },
          "metadata": {
            "tags": []
          }
        }
      ]
    },
    {
      "cell_type": "markdown",
      "metadata": {
        "id": "5ALPsf72rDwe",
        "colab_type": "text"
      },
      "source": [
        "**Question:** Briefly describe the results of the clustering. Why did DBSCAN generate the clusters that it did? Is this a better or worse result than KMeans and Hierarchical clustering? What happens if you vary the value of eps?"
      ]
    },
    {
      "cell_type": "markdown",
      "metadata": {
        "id": "JyzRmE_frcN0",
        "colab_type": "text"
      },
      "source": [
        "**Answer:** Density based clustering groups together points in high dense areas based off of distance measuring and marks outliers as those points located in low density areas. The first measure marked the outliers well but interestingly omitted points in what I would deem high dense areas. The result was better at clustering some outliers, but there were randomly outliers identified that seemed to be closer to other points so I would still opt for Hierarchical clustering or KMeans. When you vary the value of eps, the clusters change according to the distance between points. Points with distance at or below the specified value of eps are considered neighbors. In this case, when eps is lowered, less points are considered neighbors than with a higher eps. "
      ]
    },
    {
      "cell_type": "markdown",
      "metadata": {
        "id": "Df18UGjycsN3",
        "colab_type": "text"
      },
      "source": [
        "# Completely Unknown Data\n",
        "\n",
        "Now we will test your understanding of these algorithms using a completely new and unknown dataset. We have generated a two feature dataset for you to analyze for the purposes of this assignment. The link for the data can be found in the cell below.\n",
        "\n",
        "In preparation for your upcoming projects, this section is intentionally left much more open, as you will usually not have someone giving you step-by-step instructions on what to analyze and produce as we have for most of these homework assignments. \n",
        "\n",
        "Please analyze the provided data using any methods you think are sensibe and required. The use of clustering algorithms is required, but any other methods and analysis is at your discretion. During grading, we will run the code cells below in the order they appear (top to bottom). They should generate and display any relevant results. In addition, please include a text cell with a few paragraphs describing your findings. Here are some things that you should consider and answer in your analysis:\n",
        "\n",
        "* How do K Means, Hierarchical, and DBSCAN compare? Which is best?\n",
        "* Why are each of the clustering algorithms producing the results that they do?\n",
        "* What happens if you vary the hyper-parameters (number of clusters and epsilon) of these algorithms?\n",
        "* What is the optimal values for the hyper-parameters and how did you determine them?\n",
        "* How many meaningful clusters are there in the data?\n",
        "* Why is clustering a relevent way to analyze this data?\n",
        "* Are there any other way in which this data could be analyzed?"
      ]
    },
    {
      "cell_type": "code",
      "metadata": {
        "id": "VL-gJGdlhrv2",
        "colab_type": "code",
        "colab": {}
      },
      "source": [
        "data_path = \"https://raw.githubusercontent.com/univ-3360-vu-smartcities/example-notebooks/master/datasets/unknown_data.csv\""
      ],
      "execution_count": 0,
      "outputs": []
    },
    {
      "cell_type": "code",
      "metadata": {
        "id": "kxGQ5bGb0POb",
        "colab_type": "code",
        "colab": {}
      },
      "source": [
        ""
      ],
      "execution_count": 0,
      "outputs": []
    },
    {
      "cell_type": "code",
      "metadata": {
        "id": "Fqxm2Gi00Pwk",
        "colab_type": "code",
        "colab": {}
      },
      "source": [
        ""
      ],
      "execution_count": 0,
      "outputs": []
    },
    {
      "cell_type": "code",
      "metadata": {
        "id": "t-9jTNut0QFG",
        "colab_type": "code",
        "colab": {}
      },
      "source": [
        ""
      ],
      "execution_count": 0,
      "outputs": []
    },
    {
      "cell_type": "markdown",
      "metadata": {
        "id": "9HJIgIXLy-rK",
        "colab_type": "text"
      },
      "source": [
        "# Reflection Questions"
      ]
    },
    {
      "cell_type": "markdown",
      "metadata": {
        "id": "x1C2ARSgzHUw",
        "colab_type": "text"
      },
      "source": [
        "**Question:** Under what circumstances do each of the different types of clustering algorithms (partitional, hierarchical, density based) perform better than each other?"
      ]
    },
    {
      "cell_type": "markdown",
      "metadata": {
        "id": "LP-b_jDtzSaU",
        "colab_type": "text"
      },
      "source": [
        "**Answer:**"
      ]
    },
    {
      "cell_type": "markdown",
      "metadata": {
        "id": "2otXIZpKzUoO",
        "colab_type": "text"
      },
      "source": [
        "**Question:** What is the effect of the hyperparameters for each algorithm?"
      ]
    },
    {
      "cell_type": "markdown",
      "metadata": {
        "id": "n0sInUQpzbU-",
        "colab_type": "text"
      },
      "source": [
        "**Answer:**"
      ]
    },
    {
      "cell_type": "markdown",
      "metadata": {
        "id": "Wf9jr9LNzyq8",
        "colab_type": "text"
      },
      "source": [
        "**Question:** How do you determine what values of hyperparameters to use?"
      ]
    },
    {
      "cell_type": "markdown",
      "metadata": {
        "id": "TFQJgKVmz7M8",
        "colab_type": "text"
      },
      "source": [
        "**Answer:**"
      ]
    },
    {
      "cell_type": "markdown",
      "metadata": {
        "id": "ahKdbIxQzc3c",
        "colab_type": "text"
      },
      "source": [
        "**Question:** What are some ways that we can evaluate the performance of a clustering algorithm?"
      ]
    },
    {
      "cell_type": "markdown",
      "metadata": {
        "id": "7UMrPaZBzvNP",
        "colab_type": "text"
      },
      "source": [
        "**Answer:**"
      ]
    },
    {
      "cell_type": "code",
      "metadata": {
        "id": "gOq0GklXg4yX",
        "colab_type": "code",
        "colab": {}
      },
      "source": [
        ""
      ],
      "execution_count": 0,
      "outputs": []
    }
  ]
}